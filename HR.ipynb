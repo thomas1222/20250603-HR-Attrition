{
 "cells": [
  {
   "cell_type": "markdown",
   "id": "80585737",
   "metadata": {},
   "source": [
    "Front Line: we want to know which kind of employees have higher risk to quit, and if we could predict the attrition or not."
   ]
  },
  {
   "cell_type": "markdown",
   "id": "74833ba8",
   "metadata": {},
   "source": [
    "# HR Analytics: 員工離職預測與分析報告\n",
    "\n",
    "## 🎯 研究動機\n",
    "根據企業內部人資資料，我們希望分析影響員工離職的關鍵因素，藉此提出管理改善建議，降低人員流動率。\n",
    "\n",
    "## ❓ 研究問題\n",
    "1. 離職員工的共通特徵有哪些？\n",
    "2. 哪些變數與離職顯著相關？\n",
    "3. 是否能透過機器學習模型預測員工是否將離職？"
   ]
  },
  {
   "cell_type": "markdown",
   "id": "147516a8",
   "metadata": {},
   "source": [
    "# Data Loading and Initial Exploring"
   ]
  },
  {
   "cell_type": "code",
   "execution_count": 1,
   "id": "071d4417",
   "metadata": {},
   "outputs": [],
   "source": [
    "import numpy as np\n",
    "import pandas as pd\n",
    "\n",
    "import matplotlib.pyplot as plt\n",
    "import seaborn as sns\n",
    "from statsmodels.stats.proportion import proportions_ztest\n"
   ]
  },
  {
   "cell_type": "code",
   "execution_count": 2,
   "id": "da8f9956",
   "metadata": {},
   "outputs": [
    {
     "data": {
      "text/html": [
       "<div>\n",
       "<style scoped>\n",
       "    .dataframe tbody tr th:only-of-type {\n",
       "        vertical-align: middle;\n",
       "    }\n",
       "\n",
       "    .dataframe tbody tr th {\n",
       "        vertical-align: top;\n",
       "    }\n",
       "\n",
       "    .dataframe thead th {\n",
       "        text-align: right;\n",
       "    }\n",
       "</style>\n",
       "<table border=\"1\" class=\"dataframe\">\n",
       "  <thead>\n",
       "    <tr style=\"text-align: right;\">\n",
       "      <th></th>\n",
       "      <th>Age</th>\n",
       "      <th>Attrition</th>\n",
       "      <th>BusinessTravel</th>\n",
       "      <th>DailyRate</th>\n",
       "      <th>Department</th>\n",
       "      <th>DistanceFromHome</th>\n",
       "      <th>Education</th>\n",
       "      <th>EducationField</th>\n",
       "      <th>EmployeeCount</th>\n",
       "      <th>EmployeeNumber</th>\n",
       "      <th>...</th>\n",
       "      <th>RelationshipSatisfaction</th>\n",
       "      <th>StandardHours</th>\n",
       "      <th>StockOptionLevel</th>\n",
       "      <th>TotalWorkingYears</th>\n",
       "      <th>TrainingTimesLastYear</th>\n",
       "      <th>WorkLifeBalance</th>\n",
       "      <th>YearsAtCompany</th>\n",
       "      <th>YearsInCurrentRole</th>\n",
       "      <th>YearsSinceLastPromotion</th>\n",
       "      <th>YearsWithCurrManager</th>\n",
       "    </tr>\n",
       "  </thead>\n",
       "  <tbody>\n",
       "    <tr>\n",
       "      <th>0</th>\n",
       "      <td>41</td>\n",
       "      <td>Yes</td>\n",
       "      <td>Travel_Rarely</td>\n",
       "      <td>1102</td>\n",
       "      <td>Sales</td>\n",
       "      <td>1</td>\n",
       "      <td>2</td>\n",
       "      <td>Life Sciences</td>\n",
       "      <td>1</td>\n",
       "      <td>1</td>\n",
       "      <td>...</td>\n",
       "      <td>1</td>\n",
       "      <td>80</td>\n",
       "      <td>0</td>\n",
       "      <td>8</td>\n",
       "      <td>0</td>\n",
       "      <td>1</td>\n",
       "      <td>6</td>\n",
       "      <td>4</td>\n",
       "      <td>0</td>\n",
       "      <td>5</td>\n",
       "    </tr>\n",
       "    <tr>\n",
       "      <th>1</th>\n",
       "      <td>49</td>\n",
       "      <td>No</td>\n",
       "      <td>Travel_Frequently</td>\n",
       "      <td>279</td>\n",
       "      <td>Research &amp; Development</td>\n",
       "      <td>8</td>\n",
       "      <td>1</td>\n",
       "      <td>Life Sciences</td>\n",
       "      <td>1</td>\n",
       "      <td>2</td>\n",
       "      <td>...</td>\n",
       "      <td>4</td>\n",
       "      <td>80</td>\n",
       "      <td>1</td>\n",
       "      <td>10</td>\n",
       "      <td>3</td>\n",
       "      <td>3</td>\n",
       "      <td>10</td>\n",
       "      <td>7</td>\n",
       "      <td>1</td>\n",
       "      <td>7</td>\n",
       "    </tr>\n",
       "    <tr>\n",
       "      <th>2</th>\n",
       "      <td>37</td>\n",
       "      <td>Yes</td>\n",
       "      <td>Travel_Rarely</td>\n",
       "      <td>1373</td>\n",
       "      <td>Research &amp; Development</td>\n",
       "      <td>2</td>\n",
       "      <td>2</td>\n",
       "      <td>Other</td>\n",
       "      <td>1</td>\n",
       "      <td>4</td>\n",
       "      <td>...</td>\n",
       "      <td>2</td>\n",
       "      <td>80</td>\n",
       "      <td>0</td>\n",
       "      <td>7</td>\n",
       "      <td>3</td>\n",
       "      <td>3</td>\n",
       "      <td>0</td>\n",
       "      <td>0</td>\n",
       "      <td>0</td>\n",
       "      <td>0</td>\n",
       "    </tr>\n",
       "    <tr>\n",
       "      <th>3</th>\n",
       "      <td>33</td>\n",
       "      <td>No</td>\n",
       "      <td>Travel_Frequently</td>\n",
       "      <td>1392</td>\n",
       "      <td>Research &amp; Development</td>\n",
       "      <td>3</td>\n",
       "      <td>4</td>\n",
       "      <td>Life Sciences</td>\n",
       "      <td>1</td>\n",
       "      <td>5</td>\n",
       "      <td>...</td>\n",
       "      <td>3</td>\n",
       "      <td>80</td>\n",
       "      <td>0</td>\n",
       "      <td>8</td>\n",
       "      <td>3</td>\n",
       "      <td>3</td>\n",
       "      <td>8</td>\n",
       "      <td>7</td>\n",
       "      <td>3</td>\n",
       "      <td>0</td>\n",
       "    </tr>\n",
       "    <tr>\n",
       "      <th>4</th>\n",
       "      <td>27</td>\n",
       "      <td>No</td>\n",
       "      <td>Travel_Rarely</td>\n",
       "      <td>591</td>\n",
       "      <td>Research &amp; Development</td>\n",
       "      <td>2</td>\n",
       "      <td>1</td>\n",
       "      <td>Medical</td>\n",
       "      <td>1</td>\n",
       "      <td>7</td>\n",
       "      <td>...</td>\n",
       "      <td>4</td>\n",
       "      <td>80</td>\n",
       "      <td>1</td>\n",
       "      <td>6</td>\n",
       "      <td>3</td>\n",
       "      <td>3</td>\n",
       "      <td>2</td>\n",
       "      <td>2</td>\n",
       "      <td>2</td>\n",
       "      <td>2</td>\n",
       "    </tr>\n",
       "  </tbody>\n",
       "</table>\n",
       "<p>5 rows × 35 columns</p>\n",
       "</div>"
      ],
      "text/plain": [
       "   Age Attrition     BusinessTravel  DailyRate              Department  \\\n",
       "0   41       Yes      Travel_Rarely       1102                   Sales   \n",
       "1   49        No  Travel_Frequently        279  Research & Development   \n",
       "2   37       Yes      Travel_Rarely       1373  Research & Development   \n",
       "3   33        No  Travel_Frequently       1392  Research & Development   \n",
       "4   27        No      Travel_Rarely        591  Research & Development   \n",
       "\n",
       "   DistanceFromHome  Education EducationField  EmployeeCount  EmployeeNumber  \\\n",
       "0                 1          2  Life Sciences              1               1   \n",
       "1                 8          1  Life Sciences              1               2   \n",
       "2                 2          2          Other              1               4   \n",
       "3                 3          4  Life Sciences              1               5   \n",
       "4                 2          1        Medical              1               7   \n",
       "\n",
       "   ...  RelationshipSatisfaction StandardHours  StockOptionLevel  \\\n",
       "0  ...                         1            80                 0   \n",
       "1  ...                         4            80                 1   \n",
       "2  ...                         2            80                 0   \n",
       "3  ...                         3            80                 0   \n",
       "4  ...                         4            80                 1   \n",
       "\n",
       "   TotalWorkingYears  TrainingTimesLastYear WorkLifeBalance  YearsAtCompany  \\\n",
       "0                  8                      0               1               6   \n",
       "1                 10                      3               3              10   \n",
       "2                  7                      3               3               0   \n",
       "3                  8                      3               3               8   \n",
       "4                  6                      3               3               2   \n",
       "\n",
       "  YearsInCurrentRole  YearsSinceLastPromotion  YearsWithCurrManager  \n",
       "0                  4                        0                     5  \n",
       "1                  7                        1                     7  \n",
       "2                  0                        0                     0  \n",
       "3                  7                        3                     0  \n",
       "4                  2                        2                     2  \n",
       "\n",
       "[5 rows x 35 columns]"
      ]
     },
     "execution_count": 2,
     "metadata": {},
     "output_type": "execute_result"
    }
   ],
   "source": [
    "df = pd.read_csv('WA_Fn-UseC_-HR-Employee-Attrition.csv')\n",
    "\n",
    "df.head() #確認匯入成功"
   ]
  },
  {
   "cell_type": "markdown",
   "id": "88f8a222",
   "metadata": {},
   "source": [
    "## Check Null and Clean"
   ]
  },
  {
   "cell_type": "code",
   "execution_count": 3,
   "id": "574675bf",
   "metadata": {},
   "outputs": [
    {
     "name": "stdout",
     "output_type": "stream",
     "text": [
      "<class 'pandas.core.frame.DataFrame'>\n",
      "RangeIndex: 1470 entries, 0 to 1469\n",
      "Data columns (total 35 columns):\n",
      " #   Column                    Non-Null Count  Dtype \n",
      "---  ------                    --------------  ----- \n",
      " 0   Age                       1470 non-null   int64 \n",
      " 1   Attrition                 1470 non-null   object\n",
      " 2   BusinessTravel            1470 non-null   object\n",
      " 3   DailyRate                 1470 non-null   int64 \n",
      " 4   Department                1470 non-null   object\n",
      " 5   DistanceFromHome          1470 non-null   int64 \n",
      " 6   Education                 1470 non-null   int64 \n",
      " 7   EducationField            1470 non-null   object\n",
      " 8   EmployeeCount             1470 non-null   int64 \n",
      " 9   EmployeeNumber            1470 non-null   int64 \n",
      " 10  EnvironmentSatisfaction   1470 non-null   int64 \n",
      " 11  Gender                    1470 non-null   object\n",
      " 12  HourlyRate                1470 non-null   int64 \n",
      " 13  JobInvolvement            1470 non-null   int64 \n",
      " 14  JobLevel                  1470 non-null   int64 \n",
      " 15  JobRole                   1470 non-null   object\n",
      " 16  JobSatisfaction           1470 non-null   int64 \n",
      " 17  MaritalStatus             1470 non-null   object\n",
      " 18  MonthlyIncome             1470 non-null   int64 \n",
      " 19  MonthlyRate               1470 non-null   int64 \n",
      " 20  NumCompaniesWorked        1470 non-null   int64 \n",
      " 21  Over18                    1470 non-null   object\n",
      " 22  OverTime                  1470 non-null   object\n",
      " 23  PercentSalaryHike         1470 non-null   int64 \n",
      " 24  PerformanceRating         1470 non-null   int64 \n",
      " 25  RelationshipSatisfaction  1470 non-null   int64 \n",
      " 26  StandardHours             1470 non-null   int64 \n",
      " 27  StockOptionLevel          1470 non-null   int64 \n",
      " 28  TotalWorkingYears         1470 non-null   int64 \n",
      " 29  TrainingTimesLastYear     1470 non-null   int64 \n",
      " 30  WorkLifeBalance           1470 non-null   int64 \n",
      " 31  YearsAtCompany            1470 non-null   int64 \n",
      " 32  YearsInCurrentRole        1470 non-null   int64 \n",
      " 33  YearsSinceLastPromotion   1470 non-null   int64 \n",
      " 34  YearsWithCurrManager      1470 non-null   int64 \n",
      "dtypes: int64(26), object(9)\n",
      "memory usage: 402.1+ KB\n"
     ]
    }
   ],
   "source": [
    "df.info()  #確認是否需要進行null值的處理，此處不用"
   ]
  },
  {
   "cell_type": "markdown",
   "id": "403e504d",
   "metadata": {},
   "source": [
    "No need to clean!"
   ]
  },
  {
   "cell_type": "markdown",
   "id": "1406ddc5",
   "metadata": {},
   "source": [
    "## Delete Useless Cols"
   ]
  },
  {
   "cell_type": "code",
   "execution_count": 4,
   "id": "abfaef02",
   "metadata": {},
   "outputs": [
    {
     "data": {
      "text/html": [
       "<div>\n",
       "<style scoped>\n",
       "    .dataframe tbody tr th:only-of-type {\n",
       "        vertical-align: middle;\n",
       "    }\n",
       "\n",
       "    .dataframe tbody tr th {\n",
       "        vertical-align: top;\n",
       "    }\n",
       "\n",
       "    .dataframe thead th {\n",
       "        text-align: right;\n",
       "    }\n",
       "</style>\n",
       "<table border=\"1\" class=\"dataframe\">\n",
       "  <thead>\n",
       "    <tr style=\"text-align: right;\">\n",
       "      <th></th>\n",
       "      <th>Age</th>\n",
       "      <th>Attrition</th>\n",
       "      <th>BusinessTravel</th>\n",
       "      <th>DailyRate</th>\n",
       "      <th>Department</th>\n",
       "      <th>DistanceFromHome</th>\n",
       "      <th>Education</th>\n",
       "      <th>EducationField</th>\n",
       "      <th>EmployeeNumber</th>\n",
       "      <th>EnvironmentSatisfaction</th>\n",
       "      <th>...</th>\n",
       "      <th>PerformanceRating</th>\n",
       "      <th>RelationshipSatisfaction</th>\n",
       "      <th>StockOptionLevel</th>\n",
       "      <th>TotalWorkingYears</th>\n",
       "      <th>TrainingTimesLastYear</th>\n",
       "      <th>WorkLifeBalance</th>\n",
       "      <th>YearsAtCompany</th>\n",
       "      <th>YearsInCurrentRole</th>\n",
       "      <th>YearsSinceLastPromotion</th>\n",
       "      <th>YearsWithCurrManager</th>\n",
       "    </tr>\n",
       "  </thead>\n",
       "  <tbody>\n",
       "    <tr>\n",
       "      <th>0</th>\n",
       "      <td>41</td>\n",
       "      <td>Yes</td>\n",
       "      <td>Travel_Rarely</td>\n",
       "      <td>1102</td>\n",
       "      <td>Sales</td>\n",
       "      <td>1</td>\n",
       "      <td>2</td>\n",
       "      <td>Life Sciences</td>\n",
       "      <td>1</td>\n",
       "      <td>2</td>\n",
       "      <td>...</td>\n",
       "      <td>3</td>\n",
       "      <td>1</td>\n",
       "      <td>0</td>\n",
       "      <td>8</td>\n",
       "      <td>0</td>\n",
       "      <td>1</td>\n",
       "      <td>6</td>\n",
       "      <td>4</td>\n",
       "      <td>0</td>\n",
       "      <td>5</td>\n",
       "    </tr>\n",
       "    <tr>\n",
       "      <th>1</th>\n",
       "      <td>49</td>\n",
       "      <td>No</td>\n",
       "      <td>Travel_Frequently</td>\n",
       "      <td>279</td>\n",
       "      <td>Research &amp; Development</td>\n",
       "      <td>8</td>\n",
       "      <td>1</td>\n",
       "      <td>Life Sciences</td>\n",
       "      <td>2</td>\n",
       "      <td>3</td>\n",
       "      <td>...</td>\n",
       "      <td>4</td>\n",
       "      <td>4</td>\n",
       "      <td>1</td>\n",
       "      <td>10</td>\n",
       "      <td>3</td>\n",
       "      <td>3</td>\n",
       "      <td>10</td>\n",
       "      <td>7</td>\n",
       "      <td>1</td>\n",
       "      <td>7</td>\n",
       "    </tr>\n",
       "    <tr>\n",
       "      <th>2</th>\n",
       "      <td>37</td>\n",
       "      <td>Yes</td>\n",
       "      <td>Travel_Rarely</td>\n",
       "      <td>1373</td>\n",
       "      <td>Research &amp; Development</td>\n",
       "      <td>2</td>\n",
       "      <td>2</td>\n",
       "      <td>Other</td>\n",
       "      <td>4</td>\n",
       "      <td>4</td>\n",
       "      <td>...</td>\n",
       "      <td>3</td>\n",
       "      <td>2</td>\n",
       "      <td>0</td>\n",
       "      <td>7</td>\n",
       "      <td>3</td>\n",
       "      <td>3</td>\n",
       "      <td>0</td>\n",
       "      <td>0</td>\n",
       "      <td>0</td>\n",
       "      <td>0</td>\n",
       "    </tr>\n",
       "    <tr>\n",
       "      <th>3</th>\n",
       "      <td>33</td>\n",
       "      <td>No</td>\n",
       "      <td>Travel_Frequently</td>\n",
       "      <td>1392</td>\n",
       "      <td>Research &amp; Development</td>\n",
       "      <td>3</td>\n",
       "      <td>4</td>\n",
       "      <td>Life Sciences</td>\n",
       "      <td>5</td>\n",
       "      <td>4</td>\n",
       "      <td>...</td>\n",
       "      <td>3</td>\n",
       "      <td>3</td>\n",
       "      <td>0</td>\n",
       "      <td>8</td>\n",
       "      <td>3</td>\n",
       "      <td>3</td>\n",
       "      <td>8</td>\n",
       "      <td>7</td>\n",
       "      <td>3</td>\n",
       "      <td>0</td>\n",
       "    </tr>\n",
       "    <tr>\n",
       "      <th>4</th>\n",
       "      <td>27</td>\n",
       "      <td>No</td>\n",
       "      <td>Travel_Rarely</td>\n",
       "      <td>591</td>\n",
       "      <td>Research &amp; Development</td>\n",
       "      <td>2</td>\n",
       "      <td>1</td>\n",
       "      <td>Medical</td>\n",
       "      <td>7</td>\n",
       "      <td>1</td>\n",
       "      <td>...</td>\n",
       "      <td>3</td>\n",
       "      <td>4</td>\n",
       "      <td>1</td>\n",
       "      <td>6</td>\n",
       "      <td>3</td>\n",
       "      <td>3</td>\n",
       "      <td>2</td>\n",
       "      <td>2</td>\n",
       "      <td>2</td>\n",
       "      <td>2</td>\n",
       "    </tr>\n",
       "  </tbody>\n",
       "</table>\n",
       "<p>5 rows × 32 columns</p>\n",
       "</div>"
      ],
      "text/plain": [
       "   Age Attrition     BusinessTravel  DailyRate              Department  \\\n",
       "0   41       Yes      Travel_Rarely       1102                   Sales   \n",
       "1   49        No  Travel_Frequently        279  Research & Development   \n",
       "2   37       Yes      Travel_Rarely       1373  Research & Development   \n",
       "3   33        No  Travel_Frequently       1392  Research & Development   \n",
       "4   27        No      Travel_Rarely        591  Research & Development   \n",
       "\n",
       "   DistanceFromHome  Education EducationField  EmployeeNumber  \\\n",
       "0                 1          2  Life Sciences               1   \n",
       "1                 8          1  Life Sciences               2   \n",
       "2                 2          2          Other               4   \n",
       "3                 3          4  Life Sciences               5   \n",
       "4                 2          1        Medical               7   \n",
       "\n",
       "   EnvironmentSatisfaction  ... PerformanceRating  RelationshipSatisfaction  \\\n",
       "0                        2  ...                 3                         1   \n",
       "1                        3  ...                 4                         4   \n",
       "2                        4  ...                 3                         2   \n",
       "3                        4  ...                 3                         3   \n",
       "4                        1  ...                 3                         4   \n",
       "\n",
       "   StockOptionLevel  TotalWorkingYears TrainingTimesLastYear  WorkLifeBalance  \\\n",
       "0                 0                  8                     0                1   \n",
       "1                 1                 10                     3                3   \n",
       "2                 0                  7                     3                3   \n",
       "3                 0                  8                     3                3   \n",
       "4                 1                  6                     3                3   \n",
       "\n",
       "  YearsAtCompany  YearsInCurrentRole  YearsSinceLastPromotion  \\\n",
       "0              6                   4                        0   \n",
       "1             10                   7                        1   \n",
       "2              0                   0                        0   \n",
       "3              8                   7                        3   \n",
       "4              2                   2                        2   \n",
       "\n",
       "   YearsWithCurrManager  \n",
       "0                     5  \n",
       "1                     7  \n",
       "2                     0  \n",
       "3                     0  \n",
       "4                     2  \n",
       "\n",
       "[5 rows x 32 columns]"
      ]
     },
     "execution_count": 4,
     "metadata": {},
     "output_type": "execute_result"
    }
   ],
   "source": [
    "df.drop(['EmployeeCount', 'Over18','StandardHours'], axis = 1, inplace = True)  #移除無用欄位\n",
    "df.head()"
   ]
  },
  {
   "cell_type": "markdown",
   "id": "aff6a476",
   "metadata": {},
   "source": [
    "## Determine This Data's Inportance"
   ]
  },
  {
   "cell_type": "code",
   "execution_count": 5,
   "id": "28cc54b7",
   "metadata": {},
   "outputs": [
    {
     "data": {
      "image/png": "[encoded data removed]",
      "text/plain": [
       "<Figure size 640x480 with 1 Axes>"
      ]
     },
     "metadata": {},
     "output_type": "display_data"
    },
    {
     "data": {
      "image/png": "[encoded data removed]",
      "text/plain": [
       "<Figure size 640x480 with 1 Axes>"
      ]
     },
     "metadata": {},
     "output_type": "display_data"
    }
   ],
   "source": [
    "sns.countplot(x = 'Attrition', data = df)\n",
    "plt.title('Employee Attrition Distribution')\n",
    "plt.xlabel('Quit or not')\n",
    "plt.ylabel('Amount of Employee')\n",
    "plt.show()\n",
    "\n",
    "\n",
    "\n",
    "labels = df['Attrition'].value_counts().index\n",
    "sizes = df['Attrition'].value_counts().values\n",
    "\n",
    "plt.pie(sizes, labels=labels, autopct='%1.1f%%', startangle=90, colors=['#4f81bd', '#c0504d'])\n",
    "plt.title('Attrition Rate(%)')\n",
    "plt.axis('equal')\n",
    "plt.show()"
   ]
  },
  {
   "cell_type": "code",
   "execution_count": 6,
   "id": "71d59b01",
   "metadata": {},
   "outputs": [
    {
     "name": "stdout",
     "output_type": "stream",
     "text": [
      "z-score: 2.734\n",
      "p-value:0.0031\n"
     ]
    }
   ],
   "source": [
    "#https://www.imercer.com/articleinsights/workforce-turnover-trends\n",
    "#As the data collected by Mercer.com says, the average of Attrition is about 13.5%\n",
    "#so now I'm going to check if the sample data is significance to the Population\n",
    "\n",
    "count = df['Attrition'].value_counts()['Yes']\n",
    "nobs = len(df)\n",
    "value = 0.135  #Average Attrition of America\n",
    "\n",
    "stat, pval = proportions_ztest(count, nobs, value, alternative = 'larger')\n",
    "\n",
    "print(f\"z-score: {stat:.3f}\")\n",
    "print(f\"p-value:{pval:.4f}\")"
   ]
  },
  {
   "cell_type": "markdown",
   "id": "5222abfd",
   "metadata": {},
   "source": [
    "Because p-value >= 0.05, and also z-score >= 1.96\n",
    "so I conclude that the attrition of this company is significant higher than the average,\n",
    "there might be some issues about the employees in the company."
   ]
  },
  {
   "cell_type": "code",
   "execution_count": 7,
   "id": "99963702",
   "metadata": {},
   "outputs": [
    {
     "data": {
      "text/plain": [
       "count     1470.000000\n",
       "mean      6502.931293\n",
       "std       4707.956783\n",
       "min       1009.000000\n",
       "25%       2911.000000\n",
       "50%       4919.000000\n",
       "75%       8379.000000\n",
       "max      19999.000000\n",
       "Name: MonthlyIncome, dtype: float64"
      ]
     },
     "execution_count": 7,
     "metadata": {},
     "output_type": "execute_result"
    }
   ],
   "source": [
    "df['MonthlyIncome'].describe()"
   ]
  },
  {
   "cell_type": "code",
   "execution_count": 8,
   "id": "fd8850ba",
   "metadata": {},
   "outputs": [
    {
     "data": {
      "image/png": "[encoded data removed]",
      "text/plain": [
       "<Figure size 640x480 with 1 Axes>"
      ]
     },
     "metadata": {},
     "output_type": "display_data"
    }
   ],
   "source": [
    "sns.boxplot(x = df['MonthlyIncome'])\n",
    "\n",
    "plt.show()"
   ]
  },
  {
   "cell_type": "markdown",
   "id": "af2e037e",
   "metadata": {},
   "source": [
    "## Check if attrition comes from outliers or not"
   ]
  },
  {
   "cell_type": "code",
   "execution_count": 9,
   "id": "c54c37f4",
   "metadata": {},
   "outputs": [],
   "source": [
    "Q1 = df['MonthlyIncome'].quantile(0.25)\n",
    "Q3 = df['MonthlyIncome'].quantile(0.75)\n",
    "\n",
    "IQR = Q3 - Q1\n",
    "\n",
    "lower_bound = Q1 -1.5 * IQR\n",
    "upper_bound = Q3 + 1.5 * IQR"
   ]
  },
  {
   "cell_type": "code",
   "execution_count": 10,
   "id": "7ee95a27",
   "metadata": {},
   "outputs": [],
   "source": [
    "df['OutlierIncome'] = (df['MonthlyIncome'] < lower_bound) | (df['MonthlyIncome'] > upper_bound)"
   ]
  },
  {
   "cell_type": "code",
   "execution_count": 11,
   "id": "12c30923",
   "metadata": {},
   "outputs": [
    {
     "name": "stdout",
     "output_type": "stream",
     "text": [
      "The Quit Proportion of Employee with Outlying Incomes: 2.11%\n"
     ]
    }
   ],
   "source": [
    "quit_df = df[df['Attrition'] == 'Yes']\n",
    "\n",
    "outlier_count = quit_df['OutlierIncome'].sum()\n",
    "total_quit = len(quit_df)\n",
    "\n",
    "proportion = outlier_count / total_quit\n",
    "print(f\"The Quit Proportion of Employee with Outlying Incomes: {proportion:.2%}\")"
   ]
  },
  {
   "cell_type": "markdown",
   "id": "7ff4f2eb",
   "metadata": {},
   "source": [
    "The quit proportion of employees with outlying income is 2.11%, so most of the attrition comes from normal employees."
   ]
  },
  {
   "cell_type": "markdown",
   "id": "22f46f88",
   "metadata": {},
   "source": [
    "## Check if Gender influenced the rate of attrition"
   ]
  },
  {
   "cell_type": "code",
   "execution_count": 12,
   "id": "f875837f",
   "metadata": {},
   "outputs": [
    {
     "name": "stdout",
     "output_type": "stream",
     "text": [
      "Attrition  Attrition_Rate(%)\n",
      "Gender                      \n",
      "Female             14.795918\n",
      "Male               17.006803\n"
     ]
    }
   ],
   "source": [
    "cross_tab = pd.crosstab(df[\"Gender\"], df[\"Attrition\"])\n",
    "\n",
    "cross_tab['Attrition_Rate(%)'] = cross_tab['Yes'] / (cross_tab['Yes'] + cross_tab['No']) * 100\n",
    "print(cross_tab[['Attrition_Rate(%)']])"
   ]
  },
  {
   "cell_type": "markdown",
   "id": "4bc430d8",
   "metadata": {},
   "source": [
    "Calculate if the proportions have significant difference using two proportion ztest."
   ]
  },
  {
   "cell_type": "code",
   "execution_count": 13,
   "id": "c1cbb3b8",
   "metadata": {},
   "outputs": [
    {
     "name": "stdout",
     "output_type": "stream",
     "text": [
      "z-score:1.129\n",
      "p-value:0.2588\n"
     ]
    }
   ],
   "source": [
    "male_total = df[df['Gender'] == 'Male'].shape[0]\n",
    "female_total = df[df['Gender'] == 'Female'].shape[0]\n",
    "\n",
    "male_quit = df[(df['Gender'] == 'Male') & (df['Attrition'] == 'Yes')].shape[0]\n",
    "female_quit = df[(df['Gender'] == 'Female') & (df['Attrition'] == 'Yes')].shape[0]\n",
    "\n",
    "count = [male_quit, female_quit]\n",
    "nobs = [male_total, female_total]\n",
    "\n",
    "stat, pval = proportions_ztest(count, nobs)\n",
    "\n",
    "print(f\"z-score:{stat:.3f}\")\n",
    "print(f\"p-value:{pval:.4f}\")"
   ]
  },
  {
   "cell_type": "markdown",
   "id": "c9e2f987",
   "metadata": {},
   "source": [
    "z-score < 1.96 and p-value > 0.05, so we don't reject H_0, we don't have enough evidence to prove that there's significant difference between attrition and gender."
   ]
  },
  {
   "cell_type": "code",
   "execution_count": 14,
   "id": "2615198f",
   "metadata": {},
   "outputs": [
    {
     "data": {
      "image/png": "[encoded data removed]",
      "text/plain": [
       "<Figure size 640x480 with 1 Axes>"
      ]
     },
     "metadata": {},
     "output_type": "display_data"
    }
   ],
   "source": [
    "prop_df = (df.groupby(['Gender', 'Attrition']).size() / df.groupby('Gender').size()).reset_index(name='Percent')\n",
    "\n",
    "sns.barplot(x='Gender', y='Percent', hue='Attrition', data=prop_df)\n",
    "plt.title('Proportion between Gender and Attrition')\n",
    "plt.ylabel('Proportion')\n",
    "plt.show()"
   ]
  },
  {
   "cell_type": "markdown",
   "id": "f61ed8a6",
   "metadata": {},
   "source": [
    "## If Education and Eduction Field Have Significant Difference on Attrition"
   ]
  },
  {
   "cell_type": "code",
   "execution_count": 15,
   "id": "7db4cbab",
   "metadata": {},
   "outputs": [
    {
     "name": "stdout",
     "output_type": "stream",
     "text": [
      "Attrition  Education    EducationField  Attrition(%)\n",
      "0                  1   Human Resources     50.000000\n",
      "1                  1     Life Sciences     11.940299\n",
      "2                  1         Marketing     28.571429\n",
      "3                  1           Medical     15.873016\n",
      "4                  1             Other     40.000000\n",
      "5                  1  Technical Degree     31.578947\n",
      "6                  2   Human Resources      0.000000\n",
      "7                  2     Life Sciences     15.517241\n",
      "8                  2         Marketing     25.000000\n",
      "9                  2           Medical     15.151515\n",
      "10                 2             Other      5.263158\n",
      "11                 2  Technical Degree     18.181818\n",
      "12                 3   Human Resources     25.000000\n",
      "13                 3     Life Sciences     15.879828\n",
      "14                 3         Marketing     25.423729\n",
      "15                 3           Medical     13.661202\n",
      "16                 3             Other      8.333333\n",
      "17                 3  Technical Degree     28.070175\n",
      "18                 4   Human Resources     20.000000\n",
      "19                 4     Life Sciences     14.450867\n",
      "20                 4         Marketing     17.307692\n",
      "21                 4           Medical     12.500000\n",
      "22                 4             Other     18.181818\n",
      "23                 4  Technical Degree     12.903226\n",
      "24                 5   Human Resources     50.000000\n",
      "25                 5     Life Sciences      5.882353\n",
      "26                 5         Marketing     10.000000\n",
      "27                 5           Medical      0.000000\n",
      "28                 5             Other      0.000000\n",
      "29                 5  Technical Degree     66.666667\n"
     ]
    }
   ],
   "source": [
    "ct = pd.crosstab([df['Education'], df['EducationField']], df['Attrition'], normalize='index') * 100\n",
    "ct = ct.reset_index().rename(columns={'Yes': 'Attrition(%)'})\n",
    "print(ct[['Education', 'EducationField', 'Attrition(%)']])"
   ]
  },
  {
   "cell_type": "code",
   "execution_count": 16,
   "id": "56d5bd68",
   "metadata": {},
   "outputs": [
    {
     "name": "stderr",
     "output_type": "stream",
     "text": [
      "C:\\Users\\thoma\\AppData\\Local\\Temp\\ipykernel_8516\\1857094428.py:3: FutureWarning: \n",
      "\n",
      "The `ci` parameter is deprecated. Use `errorbar=None` for the same effect.\n",
      "\n",
      "  sns.catplot(\n"
     ]
    },
    {
     "data": {
      "image/png": "[encoded data removed]",
      "text/plain": [
       "<Figure size 1511.11x1000 with 6 Axes>"
      ]
     },
     "metadata": {},
     "output_type": "display_data"
    }
   ],
   "source": [
    "df['Attrition_Flag'] = df['Attrition'].map({'No': 0, 'Yes': 1})\n",
    "\n",
    "sns.catplot(\n",
    "    data=df,\n",
    "    kind='bar',\n",
    "    x='Education',\n",
    "    y='Attrition_Flag',\n",
    "    col='EducationField',\n",
    "    col_wrap=3,\n",
    "    estimator='mean',\n",
    "    ci=None\n",
    ").set_titles('{col_name}').set_axis_labels(\"Education\", \"Attrition\")\n",
    "\n",
    "plt.yticks(np.arange(0, 1.1, 0.1))\n",
    "\n",
    "plt.show()"
   ]
  },
  {
   "cell_type": "markdown",
   "id": "4e142cd8",
   "metadata": {},
   "source": [
    "Employees from HR & technical degree have higher proportion in attrition than 16.1%, there may have problem to discover."
   ]
  },
  {
   "cell_type": "markdown",
   "id": "82effb5e",
   "metadata": {},
   "source": [
    "Technical Degree（技術學位）：\n",
    "\n",
    "教育等級 5（博士等級）離職率高達約 0.7（70%）\n",
    "\n",
    "明顯偏高，且呈「教育程度越高，離職率越高」的趨勢\n",
    "\n",
    "可能的推論：\n",
    "\n",
    "學歷過高但工作內容無法發揮\n",
    "\n",
    "市場供需不平衡（過度學歷 vs 現實職位）\n",
    "\n",
    "有其他高就業吸引力的產業可選\n",
    "\n",
    "Human Resources（人資）：\n",
    "\n",
    "教育等級 1 和 5 的離職率都高，呈現「U 型」分布\n",
    "\n",
    "可能的推論：\n",
    "\n",
    "初學者易離職（學歷低 → 工作適應差）\n",
    "\n",
    "博士級人資找不到發揮舞台，或工作不符期待"
   ]
  },
  {
   "cell_type": "markdown",
   "id": "a7c902c4",
   "metadata": {},
   "source": [
    "根據教育程度與主修領域交叉分析，我們發現「技術領域與人資領域」的高學歷群體（教育程度為5）離職率明顯偏高，分別達 50% 以上，遠高於整體離職率 16.1%。此現象可能代表該群體在工作設計或職涯發展面向存在不匹配，建議進一步訪談該群體、分析職位適配度與流動原因。"
   ]
  }
 ],
 "metadata": {
  "kernelspec": {
   "display_name": "Python 3",
   "language": "python",
   "name": "python3"
  },
  "language_info": {
   "codemirror_mode": {
    "name": "ipython",
    "version": 3
   },
   "file_extension": ".py",
   "mimetype": "text/x-python",
   "name": "python",
   "nbconvert_exporter": "python",
   "pygments_lexer": "ipython3",
   "version": "3.11.9"
  }
 },
 "nbformat": 4,
 "nbformat_minor": 5
}
